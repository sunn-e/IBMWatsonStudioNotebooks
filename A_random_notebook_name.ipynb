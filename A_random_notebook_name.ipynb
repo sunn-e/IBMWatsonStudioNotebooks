{
    "nbformat_minor": 1, 
    "cells": [
        {
            "execution_count": null, 
            "cell_type": "code", 
            "metadata": {
                "collapsed": true
            }, 
            "outputs": [], 
            "source": ""
        }, 
        {
            "execution_count": 1, 
            "cell_type": "code", 
            "metadata": {}, 
            "outputs": [
                {
                    "execution_count": 1, 
                    "metadata": {}, 
                    "data": {
                        "text/html": "<div>\n<style scoped>\n    .dataframe tbody tr th:only-of-type {\n        vertical-align: middle;\n    }\n\n    .dataframe tbody tr th {\n        vertical-align: top;\n    }\n\n    .dataframe thead th {\n        text-align: right;\n    }\n</style>\n<table border=\"1\" class=\"dataframe\">\n  <thead>\n    <tr style=\"text-align: right;\">\n      <th></th>\n      <th>JURISDICTION NAME</th>\n      <th>COUNT PARTICIPANTS</th>\n      <th>COUNT FEMALE</th>\n      <th>PERCENT FEMALE</th>\n      <th>COUNT MALE</th>\n      <th>PERCENT MALE</th>\n      <th>COUNT GENDER UNKNOWN</th>\n      <th>PERCENT GENDER UNKNOWN</th>\n      <th>COUNT GENDER TOTAL</th>\n      <th>PERCENT GENDER TOTAL</th>\n      <th>...</th>\n      <th>COUNT CITIZEN STATUS TOTAL</th>\n      <th>PERCENT CITIZEN STATUS TOTAL</th>\n      <th>COUNT RECEIVES PUBLIC ASSISTANCE</th>\n      <th>PERCENT RECEIVES PUBLIC ASSISTANCE</th>\n      <th>COUNT NRECEIVES PUBLIC ASSISTANCE</th>\n      <th>PERCENT NRECEIVES PUBLIC ASSISTANCE</th>\n      <th>COUNT PUBLIC ASSISTANCE UNKNOWN</th>\n      <th>PERCENT PUBLIC ASSISTANCE UNKNOWN</th>\n      <th>COUNT PUBLIC ASSISTANCE TOTAL</th>\n      <th>PERCENT PUBLIC ASSISTANCE TOTAL</th>\n    </tr>\n  </thead>\n  <tbody>\n    <tr>\n      <th>0</th>\n      <td>1</td>\n      <td>44</td>\n      <td>22</td>\n      <td>0.50</td>\n      <td>22</td>\n      <td>0.50</td>\n      <td>0</td>\n      <td>0</td>\n      <td>44</td>\n      <td>0</td>\n      <td>...</td>\n      <td>44</td>\n      <td>0</td>\n      <td>20</td>\n      <td>0.45</td>\n      <td>24</td>\n      <td>0.55</td>\n      <td>0</td>\n      <td>0</td>\n      <td>44</td>\n      <td>0</td>\n    </tr>\n    <tr>\n      <th>1</th>\n      <td>2</td>\n      <td>35</td>\n      <td>19</td>\n      <td>0.54</td>\n      <td>16</td>\n      <td>0.46</td>\n      <td>0</td>\n      <td>0</td>\n      <td>35</td>\n      <td>0</td>\n      <td>...</td>\n      <td>35</td>\n      <td>0</td>\n      <td>2</td>\n      <td>0.06</td>\n      <td>33</td>\n      <td>0.94</td>\n      <td>0</td>\n      <td>0</td>\n      <td>35</td>\n      <td>0</td>\n    </tr>\n    <tr>\n      <th>2</th>\n      <td>3</td>\n      <td>1</td>\n      <td>1</td>\n      <td>1.00</td>\n      <td>0</td>\n      <td>0.00</td>\n      <td>0</td>\n      <td>0</td>\n      <td>1</td>\n      <td>0</td>\n      <td>...</td>\n      <td>1</td>\n      <td>0</td>\n      <td>0</td>\n      <td>0.00</td>\n      <td>1</td>\n      <td>1.00</td>\n      <td>0</td>\n      <td>0</td>\n      <td>1</td>\n      <td>0</td>\n    </tr>\n    <tr>\n      <th>3</th>\n      <td>4</td>\n      <td>0</td>\n      <td>0</td>\n      <td>0.00</td>\n      <td>0</td>\n      <td>0.00</td>\n      <td>0</td>\n      <td>0</td>\n      <td>0</td>\n      <td>0</td>\n      <td>...</td>\n      <td>0</td>\n      <td>0</td>\n      <td>0</td>\n      <td>0.00</td>\n      <td>0</td>\n      <td>0.00</td>\n      <td>0</td>\n      <td>0</td>\n      <td>0</td>\n      <td>0</td>\n    </tr>\n    <tr>\n      <th>4</th>\n      <td>5</td>\n      <td>2</td>\n      <td>2</td>\n      <td>1.00</td>\n      <td>0</td>\n      <td>0.00</td>\n      <td>0</td>\n      <td>0</td>\n      <td>2</td>\n      <td>0</td>\n      <td>...</td>\n      <td>2</td>\n      <td>0</td>\n      <td>0</td>\n      <td>0.00</td>\n      <td>2</td>\n      <td>1.00</td>\n      <td>0</td>\n      <td>0</td>\n      <td>2</td>\n      <td>0</td>\n    </tr>\n  </tbody>\n</table>\n<p>5 rows \u00d7 46 columns</p>\n</div>", 
                        "text/plain": "   JURISDICTION NAME  COUNT PARTICIPANTS  COUNT FEMALE  PERCENT FEMALE  \\\n0                  1                  44            22            0.50   \n1                  2                  35            19            0.54   \n2                  3                   1             1            1.00   \n3                  4                   0             0            0.00   \n4                  5                   2             2            1.00   \n\n   COUNT MALE  PERCENT MALE  COUNT GENDER UNKNOWN  PERCENT GENDER UNKNOWN  \\\n0          22          0.50                     0                       0   \n1          16          0.46                     0                       0   \n2           0          0.00                     0                       0   \n3           0          0.00                     0                       0   \n4           0          0.00                     0                       0   \n\n   COUNT GENDER TOTAL  PERCENT GENDER TOTAL               ...                 \\\n0                  44                     0               ...                  \n1                  35                     0               ...                  \n2                   1                     0               ...                  \n3                   0                     0               ...                  \n4                   2                     0               ...                  \n\n   COUNT CITIZEN STATUS TOTAL  PERCENT CITIZEN STATUS TOTAL  \\\n0                          44                             0   \n1                          35                             0   \n2                           1                             0   \n3                           0                             0   \n4                           2                             0   \n\n   COUNT RECEIVES PUBLIC ASSISTANCE  PERCENT RECEIVES PUBLIC ASSISTANCE  \\\n0                                20                                0.45   \n1                                 2                                0.06   \n2                                 0                                0.00   \n3                                 0                                0.00   \n4                                 0                                0.00   \n\n   COUNT NRECEIVES PUBLIC ASSISTANCE  PERCENT NRECEIVES PUBLIC ASSISTANCE  \\\n0                                 24                                 0.55   \n1                                 33                                 0.94   \n2                                  1                                 1.00   \n3                                  0                                 0.00   \n4                                  2                                 1.00   \n\n   COUNT PUBLIC ASSISTANCE UNKNOWN  PERCENT PUBLIC ASSISTANCE UNKNOWN  \\\n0                                0                                  0   \n1                                0                                  0   \n2                                0                                  0   \n3                                0                                  0   \n4                                0                                  0   \n\n   COUNT PUBLIC ASSISTANCE TOTAL  PERCENT PUBLIC ASSISTANCE TOTAL  \n0                             44                                0  \n1                             35                                0  \n2                              1                                0  \n3                              0                                0  \n4                              2                                0  \n\n[5 rows x 46 columns]"
                    }, 
                    "output_type": "execute_result"
                }
            ], 
            "source": "# The code was removed by Watson Studio for sharing."
        }, 
        {
            "execution_count": null, 
            "cell_type": "code", 
            "metadata": {}, 
            "outputs": [], 
            "source": " "
        }
    ], 
    "metadata": {
        "kernelspec": {
            "display_name": "Python 3.5", 
            "name": "python3", 
            "language": "python"
        }, 
        "language_info": {
            "mimetype": "text/x-python", 
            "nbconvert_exporter": "python", 
            "version": "3.5.5", 
            "name": "python", 
            "file_extension": ".py", 
            "pygments_lexer": "ipython3", 
            "codemirror_mode": {
                "version": 3, 
                "name": "ipython"
            }
        }
    }, 
    "nbformat": 4
}